{
 "cells": [
  {
   "cell_type": "markdown",
   "metadata": {},
   "source": [
    "## 1. Calculate Area of a Circle"
   ]
  },
  {
   "cell_type": "markdown",
   "metadata": {},
   "source": [
    "#### Write a Python program which accepts the radius of a circle from the user and compute the area.\n",
    "###### Program Console Sample Output 1:\n",
    "###### Input Radius: 0.5\n",
    "###### Area of Circle with radius 0.5 is 0.7853981634"
   ]
  },
  {
   "cell_type": "code",
   "execution_count": 30,
   "metadata": {},
   "outputs": [
    {
     "name": "stdout",
     "output_type": "stream",
     "text": [
      " Input Radius0.5\n",
      "\n",
      " The Area of circle with radius  0.5 is  0.78539816339725\n"
     ]
    }
   ],
   "source": [
    "radius=float(input(\" Input Radius\"))\n",
    "Area_Of_Circle = (3.141592653589) * radius **2\n",
    "print(\"\\n The Area of circle with radius \",radius,\"is \",Area_Of_Circle)"
   ]
  },
  {
   "cell_type": "code",
   "execution_count": null,
   "metadata": {},
   "outputs": [],
   "source": [
    "234"
   ]
  },
  {
   "cell_type": "code",
   "execution_count": null,
   "metadata": {},
   "outputs": [],
   "source": []
  },
  {
   "cell_type": "markdown",
   "metadata": {},
   "source": [
    "## 2. Check Number either positive, negative or zero"
   ]
  },
  {
   "cell_type": "markdown",
   "metadata": {},
   "source": [
    "#### Write a Python program to check if a number is positive, negative or zero\n",
    "###### Program Console Sample Output 1:\n",
    "###### Enter Number: -1\n",
    "##### Negative Number Entered\n",
    "###### Program Console Sample Output 2:\n",
    "##### Integer: 3\n",
    "##### Positive Number Entered\n",
    "###### Program Console Sample Output 3:\n",
    "##### Integer: 0\n",
    "###### Zero Entered"
   ]
  },
  {
   "cell_type": "code",
   "execution_count": 4,
   "metadata": {},
   "outputs": [
    {
     "name": "stdout",
     "output_type": "stream",
     "text": [
      "Enter a Number : -1\n",
      "\n",
      " Negative Number Entere\n"
     ]
    }
   ],
   "source": [
    "num=int(input(\"Enter a Number : \"))\n",
    "if num > 0:\n",
    "    print(\"\\n Positive Number Entered\")\n",
    "elif num < 0:\n",
    "    print(\"\\n Negative Number Entere\")\n",
    "else:\n",
    "    print(\"\\n Zero Entered\")"
   ]
  },
  {
   "cell_type": "code",
   "execution_count": 5,
   "metadata": {},
   "outputs": [
    {
     "name": "stdout",
     "output_type": "stream",
     "text": [
      "Enter a Number : 3\n",
      "\n",
      " Positive Number Entered\n"
     ]
    }
   ],
   "source": [
    "num=int(input(\"Enter a Number : \"))\n",
    "if num > 0:\n",
    "    print(\"\\n Positive Number Entered\")\n",
    "elif num < 0:\n",
    "    print(\"\\n Negative Number Entere\")\n",
    "else:\n",
    "    print(\"\\n Zero Entered\")"
   ]
  },
  {
   "cell_type": "code",
   "execution_count": 6,
   "metadata": {},
   "outputs": [
    {
     "name": "stdout",
     "output_type": "stream",
     "text": [
      "Enter a Number : 0\n",
      "\n",
      " Zero Entered\n"
     ]
    }
   ],
   "source": [
    "num=int(input(\"Enter a Number : \"))\n",
    "if num > 0:\n",
    "    print(\"\\n Positive Number Entered\")\n",
    "elif num < 0:\n",
    "    print(\"\\n Negative Number Entere\")\n",
    "else:\n",
    "    print(\"\\n Zero Entered\")"
   ]
  },
  {
   "cell_type": "markdown",
   "metadata": {},
   "source": [
    "## 3. Divisibility Check of two numbers"
   ]
  },
  {
   "cell_type": "markdown",
   "metadata": {},
   "source": [
    "#### Write a Python program to check whether a number is completely divisible by another number. Accept two integer values form the user\n",
    "##### Program Console Sample Output 1:\n",
    "###### Enter numerator: 4\n",
    "###### Enter Denominator: 2\n",
    "##### Number 4 is Completely divisible by 2\n",
    "###### Program Console Sample Output 2:\n",
    "##### Enter numerator: 7\n",
    "\n",
    "##### Enter Denominator: 4\n",
    "###### Number 7 is not Completely divisible by 4"
   ]
  },
  {
   "cell_type": "code",
   "execution_count": 7,
   "metadata": {},
   "outputs": [
    {
     "name": "stdout",
     "output_type": "stream",
     "text": [
      "Enter Numrator : 4\n",
      "\n",
      " Enter Denominator : 2\n",
      "\n",
      " Number  4 is completely divisible by  2\n"
     ]
    }
   ],
   "source": [
    "num1=int(input(\"Enter Numrator : \"))\n",
    "num2=int(input(\"\\n Enter Denominator : \"))\n",
    "if num1 % num2 ==0:\n",
    "    print(\"\\n Number \",num1,\"is completely divisible by \",num2)\n",
    "else:\n",
    "    print(\"\\n Number \",num1,\"is not completely divisible by \",num2)"
   ]
  },
  {
   "cell_type": "code",
   "execution_count": 8,
   "metadata": {},
   "outputs": [
    {
     "name": "stdout",
     "output_type": "stream",
     "text": [
      "Enter Numrator : 7\n",
      "\n",
      " Enter Denominator : 4\n",
      "\n",
      " Number  7 is not completely divisible by  4\n"
     ]
    }
   ],
   "source": [
    "num1=int(input(\"Enter Numrator : \"))\n",
    "num2=int(input(\"\\n Enter Denominator : \"))\n",
    "if num1 % num2 ==0:\n",
    "    print(\"\\n Number \",num1,\"is completely divisible by \",num2)\n",
    "else:\n",
    "    print(\"\\n Number \",num1,\"is not completely divisible by \",num2)"
   ]
  },
  {
   "cell_type": "code",
   "execution_count": null,
   "metadata": {},
   "outputs": [],
   "source": []
  },
  {
   "cell_type": "code",
   "execution_count": null,
   "metadata": {},
   "outputs": [],
   "source": []
  },
  {
   "cell_type": "code",
   "execution_count": null,
   "metadata": {},
   "outputs": [],
   "source": []
  },
  {
   "cell_type": "code",
   "execution_count": null,
   "metadata": {},
   "outputs": [],
   "source": []
  },
  {
   "cell_type": "markdown",
   "metadata": {},
   "source": [
    "## 4. Calculate Volume of a sphere"
   ]
  },
  {
   "cell_type": "markdown",
   "metadata": {},
   "source": [
    "##### Write a Python program to get the volume of a sphere, please take the radius as input from user"
   ]
  },
  {
   "cell_type": "markdown",
   "metadata": {},
   "source": [
    "##### Program Console Output:\n",
    "##### Enter Radius of Sphere: 1\n",
    "###### Volume of the Sphere with Radius 1 is 4.18"
   ]
  },
  {
   "cell_type": "code",
   "execution_count": 80,
   "metadata": {},
   "outputs": [
    {
     "name": "stdout",
     "output_type": "stream",
     "text": [
      "Enter Radius of sphere : 1\n",
      "\n",
      " Volume of sphere with Radius  1 is  4.19\n"
     ]
    }
   ],
   "source": [
    "r=int(input(\"Enter Radius of sphere : \"))\n",
    "volume_of_sphere=(4/3)*(3.14)*r**(3)\n",
    "print(\"\\n Volume of sphere with Radius \",r,\"is \",(f\"{volume_of_sphere:0.2f}\"))"
   ]
  },
  {
   "cell_type": "code",
   "execution_count": null,
   "metadata": {},
   "outputs": [],
   "source": []
  },
  {
   "cell_type": "code",
   "execution_count": null,
   "metadata": {},
   "outputs": [],
   "source": []
  },
  {
   "cell_type": "code",
   "execution_count": null,
   "metadata": {},
   "outputs": [],
   "source": []
  },
  {
   "cell_type": "code",
   "execution_count": null,
   "metadata": {},
   "outputs": [],
   "source": []
  },
  {
   "cell_type": "markdown",
   "metadata": {},
   "source": [
    "## 5. Copy string n times\n",
    "#### Write a Python program to get a string which is n (non-negative integer) copies of a given string.\n",
    "##### Program Console Output:\n",
    "##### Enter String: Hi\n",
    "###### How many copies of String you need: 4\n",
    "###### 4 Copies of Hi are HiHiHiHi"
   ]
  },
  {
   "cell_type": "code",
   "execution_count": 21,
   "metadata": {},
   "outputs": [
    {
     "name": "stdout",
     "output_type": "stream",
     "text": [
      "Enter String : Hi\n",
      "\n",
      " How many copies of String you need : 4\n",
      "\n",
      " 4  Copies of  Hi  are  HiHiHiHi\n"
     ]
    }
   ],
   "source": [
    "string=input(\"Enter String : \")\n",
    "num_of_copies=int(input(\"\\n How many copies of String you need : \"))\n",
    "if num_of_copies < 0:\n",
    "    print(\"\\nPlease Enter Positive Number \")\n",
    "    num_of_copies=int(input(\"\\n How many copies of String you need : \"))\n",
    "print(\"\\n\",num_of_copies,\" Copies of \",string,\" are \",string*num_of_copies)"
   ]
  },
  {
   "cell_type": "code",
   "execution_count": null,
   "metadata": {},
   "outputs": [],
   "source": []
  },
  {
   "cell_type": "code",
   "execution_count": null,
   "metadata": {},
   "outputs": [],
   "source": []
  },
  {
   "cell_type": "code",
   "execution_count": null,
   "metadata": {},
   "outputs": [],
   "source": []
  },
  {
   "cell_type": "code",
   "execution_count": null,
   "metadata": {},
   "outputs": [],
   "source": []
  },
  {
   "cell_type": "code",
   "execution_count": null,
   "metadata": {},
   "outputs": [],
   "source": []
  },
  {
   "cell_type": "markdown",
   "metadata": {},
   "source": [
    "## 6. Check if number is Even or Odd\n",
    "### Write a Python program to find whether a given number (accept from the user) is even or odd, print out an appropriate message to the user\n",
    "#### Program Console Output 1:\n",
    "##### Enter Number: 4\n",
    "###### 4 is Even\n",
    "#### Program Console Output 2:\n",
    "##### Enter Number: 9\n",
    "###### 9 is Odd"
   ]
  },
  {
   "cell_type": "markdown",
   "metadata": {},
   "source": []
  },
  {
   "cell_type": "code",
   "execution_count": 19,
   "metadata": {},
   "outputs": [
    {
     "name": "stdout",
     "output_type": "stream",
     "text": [
      "Enter Number : 4\n",
      "\n",
      " 4  is Even\n"
     ]
    }
   ],
   "source": [
    "number=int(input(\"Enter Number : \"))\n",
    "if number % 2 == 0:\n",
    "    print(\"\\n\",number, \" is Even\")\n",
    "else:\n",
    "    print(\"\\n\",number, \" is Odd\")"
   ]
  },
  {
   "cell_type": "code",
   "execution_count": 20,
   "metadata": {},
   "outputs": [
    {
     "name": "stdout",
     "output_type": "stream",
     "text": [
      "Enter Number : 9\n",
      "\n",
      " 9  is Odd\n"
     ]
    }
   ],
   "source": [
    "number=int(input(\"Enter Number : \"))\n",
    "if number % 2 == 0:\n",
    "    print(\"\\n\",number, \" is Even\")\n",
    "else:\n",
    "    print(\"\\n\",number, \" is Odd\")"
   ]
  },
  {
   "cell_type": "code",
   "execution_count": null,
   "metadata": {},
   "outputs": [],
   "source": []
  },
  {
   "cell_type": "code",
   "execution_count": null,
   "metadata": {},
   "outputs": [],
   "source": []
  },
  {
   "cell_type": "markdown",
   "metadata": {},
   "source": [
    "## 7. Vowel Tester\n",
    "### Write a Python program to test whether a passed letter is a vowel or not\n",
    "#### Program Console Output 1:\n",
    "##### Enter a character: A\n",
    "###### Letter A is Vowel\n",
    "#### Program Console Output 2:\n",
    "##### Enter a character: e\n",
    "###### Letter e is Vowel\n",
    "#### Program Console Output 2:\n",
    "##### Enter a character: N\n",
    "###### Letter N is not Vowel"
   ]
  },
  {
   "cell_type": "code",
   "execution_count": 22,
   "metadata": {},
   "outputs": [
    {
     "name": "stdout",
     "output_type": "stream",
     "text": [
      "Enter a character : A\n",
      "\n",
      " Letter A  is Vowel\n"
     ]
    }
   ],
   "source": [
    "letter=input(\"Enter a character : \")\n",
    "vowel=letter.upper()\n",
    "if vowel==\"A\" or vowel==\"E\" or vowel==\"I\" or vowel==\"O\" or vowel==\"U\":\n",
    "    print(\"\\n Letter\",letter,\" is Vowel\")\n",
    "else:\n",
    "    print(\"\\n Letter\",letter,\" is not Vowel\")"
   ]
  },
  {
   "cell_type": "code",
   "execution_count": 23,
   "metadata": {},
   "outputs": [
    {
     "name": "stdout",
     "output_type": "stream",
     "text": [
      "Enter a character : e\n",
      "\n",
      " Letter e  is Vowel\n"
     ]
    }
   ],
   "source": [
    "letter=input(\"Enter a character : \")\n",
    "vowel=letter.upper()\n",
    "if vowel==\"A\" or vowel==\"E\" or vowel==\"I\" or vowel==\"O\" or vowel==\"U\":\n",
    "    print(\"\\n Letter\",letter,\" is Vowel\")\n",
    "else:\n",
    "    print(\"\\n Letter\",letter,\" is not Vowel\")"
   ]
  },
  {
   "cell_type": "code",
   "execution_count": 24,
   "metadata": {},
   "outputs": [
    {
     "name": "stdout",
     "output_type": "stream",
     "text": [
      "Enter a character : N\n",
      "\n",
      " Letter N  is not Vowel\n"
     ]
    }
   ],
   "source": [
    "letter=input(\"Enter a character : \")\n",
    "vowel=letter.upper()\n",
    "if vowel==\"A\" or vowel==\"E\" or vowel==\"I\" or vowel==\"O\" or vowel==\"U\":\n",
    "    print(\"\\n Letter\",letter,\" is Vowel\")\n",
    "else:\n",
    "    print(\"\\n Letter\",letter,\" is not Vowel\")"
   ]
  },
  {
   "cell_type": "code",
   "execution_count": null,
   "metadata": {},
   "outputs": [],
   "source": []
  },
  {
   "cell_type": "markdown",
   "metadata": {},
   "source": [
    "## 8. Triangle area\n",
    "### Write a Python program that will accept the base and height of a triangle and compute the area\n",
    "###### Reference:\n",
    "https://www.mathgoodies.com/lessons/vol1/area_triangle"
   ]
  },
  {
   "cell_type": "code",
   "execution_count": 29,
   "metadata": {},
   "outputs": [
    {
     "name": "stdout",
     "output_type": "stream",
     "text": [
      "Enter base : 10\n",
      "\n",
      " Enter height : 3\n",
      "\n",
      " The Area of Triangle with base  10.0 & height  3.0 is  15.0\n"
     ]
    }
   ],
   "source": [
    "base=float(input(\"Enter base : \"))\n",
    "if base < 0:\n",
    "    print(\"\\n Please Enter Positive Number \\n\")\n",
    "    base=float(input(\"Enter base : \"))\n",
    "height=float(input(\"\\n Enter height : \"))\n",
    "if height < 0:\n",
    "    print(\"\\n Please Enter Positive Number \\n\")\n",
    "    height=float(input(\"Enter height : \"))\n",
    "Area_Of_Triangle=(1/2)*base*height\n",
    "print(\"\\n The Area of Triangle with base \",base,\"& height \",height,\"is \",Area_Of_Triangle)"
   ]
  },
  {
   "cell_type": "code",
   "execution_count": null,
   "metadata": {},
   "outputs": [],
   "source": []
  },
  {
   "cell_type": "code",
   "execution_count": null,
   "metadata": {},
   "outputs": [],
   "source": []
  },
  {
   "cell_type": "code",
   "execution_count": null,
   "metadata": {},
   "outputs": [],
   "source": []
  },
  {
   "cell_type": "markdown",
   "metadata": {},
   "source": [
    "## 9. Calculate Interest\n",
    "### Write a Python program to compute the future value of a specified principal amount, rate of interest, and a number of years\n",
    "#### Program Console Sample 1:\n",
    "##### Please enter principal amount: 10000\n",
    "###### Please Enter Rate of interest in %: 0.1\n",
    "###### Enter number of years for investment: 5\n",
    "###### After 5 years your principal amount 10000 over an interest rate of 0.1 % will be 16105.1"
   ]
  },
  {
   "cell_type": "code",
   "execution_count": 76,
   "metadata": {},
   "outputs": [
    {
     "name": "stdout",
     "output_type": "stream",
     "text": [
      "Please enter principal amount : 10000\n",
      "\n",
      " Please enter Rate of interest in % : 0.1\n",
      "\n",
      " Enter number of years for investment : 5\n",
      "\n",
      " After  5 years your principal amount  10000 over an interest rate of  0.1 % will be  16105.10\n"
     ]
    }
   ],
   "source": [
    "principal_amount=int(input(\"Please enter principal amount : \"))\n",
    "if principal_amount < 0:\n",
    "    print(\"\\n Plese Enter correct Amount!! \\n\")\n",
    "    principal_amount=int(input(\"Please enter principal amount : \"))\n",
    "rate=float(input(\"\\n Please enter Rate of interest in % : \"))\n",
    "if rate < 0:\n",
    "    print(\"\\n Please enter correct Rate of interest!!\")\n",
    "    rate=float(input(\"\\n Please enter Rate of interest in % : \"))\n",
    "years=int(input(\"\\n Enter number of years for investment : \"))\n",
    "if years < 0:\n",
    "    print(\"\\n Please enter correct number of years for investment!!\")\n",
    "    years=int(input(\"\\n Enter number of years for investment : \"))\n",
    "interest=f\"{(principal_amount)*((1+rate)**years):0.2f}\"\n",
    "print(\"\\n After \",years,\"years your principal amount \",principal_amount,\"over an interest rate of \",rate,\"% will be \",interest)"
   ]
  },
  {
   "cell_type": "code",
   "execution_count": null,
   "metadata": {},
   "outputs": [],
   "source": []
  },
  {
   "cell_type": "code",
   "execution_count": null,
   "metadata": {},
   "outputs": [],
   "source": []
  },
  {
   "cell_type": "code",
   "execution_count": null,
   "metadata": {},
   "outputs": [],
   "source": []
  },
  {
   "cell_type": "code",
   "execution_count": null,
   "metadata": {},
   "outputs": [],
   "source": []
  },
  {
   "cell_type": "code",
   "execution_count": null,
   "metadata": {},
   "outputs": [],
   "source": []
  },
  {
   "cell_type": "markdown",
   "metadata": {},
   "source": [
    "## 10. Euclidean distance\n",
    "### write a Python program to compute the distance between the points (x1, y1) and (x2, y2).\n",
    "#### Program Console Sample 1:\n",
    "###### Enter Co-ordinate for x1: 2\n",
    "###### Enter Co-ordinate for x2: 4\n",
    "###### Enter Co-ordinate for y1: 4\n",
    "###### Enter Co-ordinate for y2: 4\n",
    "###### Distance between points (2, 4) and (4, 4) is 2"
   ]
  },
  {
   "cell_type": "markdown",
   "metadata": {},
   "source": [
    "###### Reference:\n",
    "https://en.wikipedia.org/wiki/Euclidean_distance"
   ]
  },
  {
   "cell_type": "code",
   "execution_count": 39,
   "metadata": {},
   "outputs": [
    {
     "name": "stdout",
     "output_type": "stream",
     "text": [
      "Enter Co-ordinate for x1 : 2\n",
      "\n",
      " Enter Co-ordinate for x2 : 4\n",
      "\n",
      " Enter Co-ordinate for y1 : 4\n",
      "\n",
      " Enter Co-ordinate for y2 : 4\n",
      "\n",
      " Distance between points ( 2 , 4 ) and ( 4 , 4 ) is  2.0\n"
     ]
    }
   ],
   "source": [
    "x1=int(input(\"Enter Co-ordinate for x1 : \"))\n",
    "x2=int(input(\"\\n Enter Co-ordinate for x2 : \"))\n",
    "y1=int(input(\"\\n Enter Co-ordinate for y1 : \"))\n",
    "y2=int(input(\"\\n Enter Co-ordinate for y2 : \"))\n",
    "distance=((y1-x1)**2 + (y2-x2)**2)**1/2\n",
    "print(\"\\n Distance between points (\",x1,\",\",x2,\") and (\",y1,\",\",y2,\") is \",distance)"
   ]
  },
  {
   "cell_type": "code",
   "execution_count": null,
   "metadata": {},
   "outputs": [],
   "source": []
  },
  {
   "cell_type": "code",
   "execution_count": null,
   "metadata": {},
   "outputs": [],
   "source": []
  },
  {
   "cell_type": "code",
   "execution_count": null,
   "metadata": {},
   "outputs": [],
   "source": []
  },
  {
   "cell_type": "markdown",
   "metadata": {},
   "source": [
    "## 11. Feet to Centimeter Converter\n",
    "### Write a Python program to convert height in feet to centimetres.\n",
    "##### Program Console Sample 1:\n",
    "###### Enter Height in Feet: 5\n",
    "###### There are 152.4 Cm in 5 ft\n",
    "###### Reference:\n",
    "https://www.rapidtables.com/convert/length/feet-to-cm.html"
   ]
  },
  {
   "cell_type": "code",
   "execution_count": 42,
   "metadata": {},
   "outputs": [
    {
     "name": "stdout",
     "output_type": "stream",
     "text": [
      "Enter Height in Feet : 5\n",
      "\n",
      " There are  152.4 Cm in  5 ft\n"
     ]
    }
   ],
   "source": [
    "feet=int(input(\"Enter Height in Feet : \"))\n",
    "print(\"\\n There are \", (feet*30.48),\"Cm in \", feet, \"ft\")"
   ]
  },
  {
   "cell_type": "code",
   "execution_count": null,
   "metadata": {},
   "outputs": [],
   "source": []
  },
  {
   "cell_type": "code",
   "execution_count": null,
   "metadata": {},
   "outputs": [],
   "source": []
  },
  {
   "cell_type": "code",
   "execution_count": null,
   "metadata": {},
   "outputs": [],
   "source": []
  },
  {
   "cell_type": "markdown",
   "metadata": {},
   "source": [
    "## 12. BMI Calculator\n",
    "### Write a Python program to calculate body mass index\n",
    "##### Program Console Sample 1:\n",
    "###### Enter Height in Cm: 180\n",
    "###### Enter Weight in Kg: 75\n",
    "###### Your BMI is 23.15"
   ]
  },
  {
   "cell_type": "code",
   "execution_count": 75,
   "metadata": {},
   "outputs": [
    {
     "name": "stdout",
     "output_type": "stream",
     "text": [
      "Enter Height in Cm : 180\n",
      "\n",
      " Enter weight in Kg : 75\n",
      "\n",
      " Your BMI is  23.15\n"
     ]
    }
   ],
   "source": [
    "height=int(input(\"Enter Height in Cm : \"))\n",
    "weight=int(input(\"\\n Enter weight in Kg : \"))\n",
    "BMI=(weight/height**2)*10000\n",
    "print(\"\\n Your BMI is \",(f\"{BMI:0.2f}\"))\n"
   ]
  },
  {
   "cell_type": "code",
   "execution_count": null,
   "metadata": {},
   "outputs": [],
   "source": []
  },
  {
   "cell_type": "code",
   "execution_count": null,
   "metadata": {},
   "outputs": [],
   "source": []
  },
  {
   "cell_type": "markdown",
   "metadata": {},
   "source": [
    "## 13. Sum of n Positive Integers\n",
    "### Write a python program to sum of the first n positive integers\n",
    "#### Program Console Sample 1:\n",
    "###### Enter value of n: 5\n",
    "###### Sum of n Positive integers till 5 is 15"
   ]
  },
  {
   "cell_type": "code",
   "execution_count": 51,
   "metadata": {},
   "outputs": [
    {
     "name": "stdout",
     "output_type": "stream",
     "text": [
      "Enter value of n : 5\n",
      "\n",
      " Sum of n Positive integers till  5  is  15\n"
     ]
    }
   ],
   "source": [
    "sum=0\n",
    "value=int(input(\"Enter value of n : \" ))\n",
    "if value < 0:\n",
    "    print(\"\\n Please Enter Positive value of n!!\")\n",
    "    value=int(input(\"Enter value of n : \" ))\n",
    "for i in range(0,value+1):\n",
    "    sum=sum+i\n",
    "print(\"\\n Sum of n Positive integers till \",value,\" is \",sum)\n"
   ]
  },
  {
   "cell_type": "code",
   "execution_count": null,
   "metadata": {},
   "outputs": [],
   "source": []
  },
  {
   "cell_type": "code",
   "execution_count": null,
   "metadata": {},
   "outputs": [],
   "source": []
  },
  {
   "cell_type": "markdown",
   "metadata": {},
   "source": [
    "## 14. Digits Sum of a Number\n",
    "### Write a Python program to calculate the sum of the digits in an integer\n",
    "#### Program Console Sample 1:\n",
    "##### Enter a number: 15\n",
    "###### Sum of 1 + 5 is 6\n",
    "#### Program Console Sample 2:\n",
    "##### Enter a number: 1234\n",
    "###### Sum of 1 + 2 + 3 + 4 is 10"
   ]
  },
  {
   "cell_type": "code",
   "execution_count": 73,
   "metadata": {},
   "outputs": [
    {
     "name": "stdout",
     "output_type": "stream",
     "text": [
      "Enter a number15\n",
      "\n",
      " Sum of 1  + 5  +  is  6\n"
     ]
    }
   ],
   "source": [
    "digit=input(\"Enter a number\")\n",
    "sum=0\n",
    "print(\"\\n Sum of \",end='')\n",
    "for i in digit:    \n",
    "    sum=sum+int(i)\n",
    "    print(i,\" + \",end='')\n",
    "print(\" is \",sum)"
   ]
  },
  {
   "cell_type": "code",
   "execution_count": 74,
   "metadata": {},
   "outputs": [
    {
     "name": "stdout",
     "output_type": "stream",
     "text": [
      "Enter a number1234\n",
      "\n",
      " Sum of 1  + 2  + 3  + 4  +  is  10\n"
     ]
    }
   ],
   "source": [
    "digit=input(\"Enter a number\")\n",
    "sum=0\n",
    "print(\"\\n Sum of \",end='')\n",
    "for i in digit:    \n",
    "    sum=sum+int(i)\n",
    "    print(i,\" + \",end='')\n",
    "print(\" is \",sum)"
   ]
  },
  {
   "cell_type": "code",
   "execution_count": null,
   "metadata": {},
   "outputs": [],
   "source": []
  },
  {
   "cell_type": "code",
   "execution_count": null,
   "metadata": {},
   "outputs": [],
   "source": []
  },
  {
   "cell_type": "code",
   "execution_count": null,
   "metadata": {},
   "outputs": [],
   "source": []
  },
  {
   "cell_type": "code",
   "execution_count": null,
   "metadata": {},
   "outputs": [],
   "source": []
  },
  {
   "cell_type": "code",
   "execution_count": null,
   "metadata": {},
   "outputs": [],
   "source": []
  },
  {
   "cell_type": "code",
   "execution_count": null,
   "metadata": {},
   "outputs": [],
   "source": []
  }
 ],
 "metadata": {
  "kernelspec": {
   "display_name": "Python 3",
   "language": "python",
   "name": "python3"
  },
  "language_info": {
   "codemirror_mode": {
    "name": "ipython",
    "version": 3
   },
   "file_extension": ".py",
   "mimetype": "text/x-python",
   "name": "python",
   "nbconvert_exporter": "python",
   "pygments_lexer": "ipython3",
   "version": "3.7.0"
  }
 },
 "nbformat": 4,
 "nbformat_minor": 2
}
